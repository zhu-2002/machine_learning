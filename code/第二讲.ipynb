{
 "cells": [
  {
   "cell_type": "markdown",
   "id": "8b8a303cbe5c81ac",
   "metadata": {},
   "source": [
    "# 第二讲 "
   ]
  },
  {
   "cell_type": "code",
   "id": "71b6cfed7202d634",
   "metadata": {
    "ExecuteTime": {
     "end_time": "2025-06-25T12:00:40.293762Z",
     "start_time": "2025-06-25T12:00:40.290237Z"
    }
   },
   "source": [
    "print(\"hello\")"
   ],
   "outputs": [
    {
     "name": "stdout",
     "output_type": "stream",
     "text": [
      "hello\n"
     ]
    }
   ],
   "execution_count": 1
  },
  {
   "cell_type": "code",
   "execution_count": 4,
   "id": "766dfc01199322aa",
   "metadata": {
    "ExecuteTime": {
     "end_time": "2025-03-17T14:05:15.302952Z",
     "start_time": "2025-03-17T14:05:15.299496Z"
    }
   },
   "outputs": [],
   "source": []
  },
  {
   "cell_type": "code",
   "execution_count": null,
   "id": "869915e63e650bf7",
   "metadata": {},
   "outputs": [],
   "source": []
  }
 ],
 "metadata": {
  "kernelspec": {
   "display_name": "Python [conda env:py_3_12_9]",
   "language": "python",
   "name": "conda-env-py_3_12_9-py"
  },
  "language_info": {
   "codemirror_mode": {
    "name": "ipython",
    "version": 3
   },
   "file_extension": ".py",
   "mimetype": "text/x-python",
   "name": "python",
   "nbconvert_exporter": "python",
   "pygments_lexer": "ipython3",
   "version": "3.12.9"
  }
 },
 "nbformat": 4,
 "nbformat_minor": 5
}
