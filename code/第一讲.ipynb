{
 "cells": [
  {
   "metadata": {},
   "cell_type": "markdown",
   "source": "# 第一讲",
   "id": "8b8a303cbe5c81ac"
  },
  {
   "metadata": {},
   "cell_type": "code",
   "outputs": [],
   "execution_count": null,
   "source": "## 环境\n",
   "id": "6e84ddc55d22f3df"
  },
  {
   "metadata": {
    "ExecuteTime": {
     "end_time": "2025-06-25T12:01:35.119250Z",
     "start_time": "2025-06-25T12:01:35.116771Z"
    }
   },
   "cell_type": "code",
   "source": "print(\"hello\")",
   "id": "71b6cfed7202d634",
   "outputs": [
    {
     "name": "stdout",
     "output_type": "stream",
     "text": [
      "hello\n"
     ]
    }
   ],
   "execution_count": 2
  },
  {
   "metadata": {
    "ExecuteTime": {
     "end_time": "2025-03-17T14:05:15.302952Z",
     "start_time": "2025-03-17T14:05:15.299496Z"
    }
   },
   "cell_type": "code",
   "source": "",
   "id": "766dfc01199322aa",
   "outputs": [],
   "execution_count": 4
  },
  {
   "metadata": {},
   "cell_type": "code",
   "outputs": [],
   "execution_count": null,
   "source": "",
   "id": "869915e63e650bf7"
  }
 ],
 "metadata": {
  "kernelspec": {
   "display_name": "Python [conda env:py_3_12_9]",
   "language": "python",
   "name": "conda-env-py_3_12_9-py"
  },
  "language_info": {
   "codemirror_mode": {
    "name": "ipython",
    "version": 2
   },
   "file_extension": ".py",
   "mimetype": "text/x-python",
   "name": "python",
   "nbconvert_exporter": "python",
   "pygments_lexer": "ipython2",
   "version": "2.7.6"
  }
 },
 "nbformat": 4,
 "nbformat_minor": 5
}
