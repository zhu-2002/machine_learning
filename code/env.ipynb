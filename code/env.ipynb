{
 "cells": [
  {
   "metadata": {},
   "cell_type": "markdown",
   "source": [
    "# 引言\n",
    "\n",
    "[TOC]\n",
    "\n",
    "## 开发环境\n",
    "\n",
    "- Anaconda\n",
    "- Pycharm + JupyterNoteBook\n",
    "  \n",
    "  运行代码需要切换py文件的内核文件，需改为py3_12_9（IDE顶部）\n",
    "- python 3.12\n",
    "\n"
   ],
   "id": "5430e3ff7ba22964"
  },
  {
   "metadata": {},
   "cell_type": "markdown",
   "source": "",
   "id": "5c229fb15ab82e89"
  },
  {
   "metadata": {},
   "cell_type": "code",
   "outputs": [],
   "execution_count": null,
   "source": "",
   "id": "73805cd8f6be5b4f"
  },
  {
   "metadata": {
    "jupyter": {
     "is_executing": true
    }
   },
   "cell_type": "code",
   "source": "### ",
   "id": "84df3138cb7c1035",
   "outputs": [],
   "execution_count": null
  },
  {
   "metadata": {
    "jupyter": {
     "is_executing": true
    }
   },
   "cell_type": "code",
   "source": "",
   "id": "d18477c3b404eae5",
   "outputs": [],
   "execution_count": null
  },
  {
   "metadata": {
    "jupyter": {
     "is_executing": true
    }
   },
   "cell_type": "code",
   "source": "",
   "id": "118bcd87f9bf2d8f",
   "outputs": [],
   "execution_count": null
  },
  {
   "metadata": {},
   "cell_type": "code",
   "outputs": [],
   "execution_count": null,
   "source": "",
   "id": "24172f2e6a9bf69a"
  }
 ],
 "metadata": {
  "kernelspec": {
   "display_name": "Python [conda env:py_3_12_9]",
   "language": "python",
   "name": "conda-env-py_3_12_9-py"
  },
  "language_info": {
   "codemirror_mode": {
    "name": "ipython",
    "version": 2
   },
   "file_extension": ".py",
   "mimetype": "text/x-python",
   "name": "python",
   "nbconvert_exporter": "python",
   "pygments_lexer": "ipython2",
   "version": "2.7.6"
  }
 },
 "nbformat": 4,
 "nbformat_minor": 5
}
